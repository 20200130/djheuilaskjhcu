{
 "cells": [
  {
   "cell_type": "code",
   "execution_count": 124,
   "metadata": {},
   "outputs": [],
   "source": [
    "# 먼저 모듈 불러오기\n",
    "import numpy as np\n",
    "import pandas as pd\n",
    "from tqdm import tqdm\n",
    "\n",
    "# 아무 train data나 불러오기\n",
    "df = pd.read_csv('train/111.csv', index_col = 0)\n"
   ]
  },
  {
   "cell_type": "code",
   "execution_count": 129,
   "metadata": {},
   "outputs": [
    {
     "name": "stdout",
     "output_type": "stream",
     "text": [
      "Index(['V0000', 'V0001', 'V0002', 'V0003', 'V0004', 'V0005', 'V0006', 'V0007',\n",
      "       'V0008', 'V0009',\n",
      "       ...\n",
      "       'V5111', 'V5112', 'V5113', 'V5114', 'V5115', 'V5116', 'V5117', 'V5118',\n",
      "       'V5119', 'V5120'],\n",
      "      dtype='object', length=5121)\n"
     ]
    }
   ],
   "source": [
    "# column_list 변수에 모든 column index 넣기 \n",
    "column_list = df.columns[0:5121]\n",
    "\n",
    "print(column_list)\n"
   ]
  },
  {
   "cell_type": "code",
   "execution_count": 121,
   "metadata": {},
   "outputs": [],
   "source": [
    "i = 0\n",
    "for i in column_list:\n",
    "    #print(df[i])\n",
    "    #print(df.loc[0,i])\n",
    "    tf = (df[i] == df.loc[0,i])\n",
    "    #print(tf)\n",
    "    if 'false' not in tf:\n",
    "        del df[i]\n",
    "        "
   ]
  },
  {
   "cell_type": "code",
   "execution_count": null,
   "metadata": {},
   "outputs": [],
   "source": []
  }
 ],
 "metadata": {
  "kernelspec": {
   "display_name": "Python 3",
   "language": "python",
   "name": "python3"
  },
  "language_info": {
   "codemirror_mode": {
    "name": "ipython",
    "version": 3
   },
   "file_extension": ".py",
   "mimetype": "text/x-python",
   "name": "python",
   "nbconvert_exporter": "python",
   "pygments_lexer": "ipython3",
   "version": "3.6.10"
  }
 },
 "nbformat": 4,
 "nbformat_minor": 2
}
