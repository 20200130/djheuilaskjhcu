{
 "cells": [
  {
   "cell_type": "code",
   "execution_count": 28,
   "metadata": {},
   "outputs": [],
   "source": [
    "# 먼저 모듈 불러오기\n",
    "import numpy as np\n",
    "import pandas as pd\n",
    "\n",
    "# 아무 train data나 불러오기\n",
    "df = pd.read_csv('C:/jupyter_project/train/111.csv')\n",
    "\n",
    "\n",
    "\n"
   ]
  },
  {
   "cell_type": "code",
   "execution_count": 30,
   "metadata": {
    "collapsed": true
   },
   "outputs": [
    {
     "data": {
      "text/plain": [
       "0      30.456351\n",
       "1      30.473338\n",
       "2      30.476081\n",
       "3      30.491677\n",
       "4      30.459297\n",
       "5      30.473081\n",
       "6      30.474668\n",
       "7      30.453381\n",
       "8      30.491659\n",
       "9      30.468807\n",
       "10     30.456698\n",
       "11     30.470406\n",
       "12     30.467212\n",
       "13     30.458894\n",
       "14     30.466008\n",
       "15     30.489723\n",
       "16     30.454848\n",
       "17     30.458070\n",
       "18     30.482916\n",
       "19     30.474912\n",
       "20     30.455299\n",
       "21     30.471202\n",
       "22     30.466069\n",
       "23     30.476450\n",
       "24     30.477006\n",
       "25     30.467195\n",
       "26     30.492397\n",
       "27     30.486419\n",
       "28     30.451515\n",
       "29     30.454991\n",
       "         ...    \n",
       "570    30.480965\n",
       "571    30.446062\n",
       "572    30.464251\n",
       "573    30.481722\n",
       "574    30.469723\n",
       "575    30.469024\n",
       "576    30.459413\n",
       "577    30.447682\n",
       "578    30.477651\n",
       "579    30.464727\n",
       "580    30.464934\n",
       "581    30.473439\n",
       "582    30.473292\n",
       "583    30.464146\n",
       "584    30.438140\n",
       "585    30.471044\n",
       "586    30.474451\n",
       "587    30.491987\n",
       "588    30.471582\n",
       "589    30.475262\n",
       "590    30.448639\n",
       "591    30.487260\n",
       "592    30.454079\n",
       "593    30.454443\n",
       "594    30.465422\n",
       "595    30.469432\n",
       "596    30.458548\n",
       "597    30.454061\n",
       "598    30.475790\n",
       "599    30.475521\n",
       "Name: V0000, Length: 600, dtype: float64"
      ]
     },
     "execution_count": 30,
     "metadata": {},
     "output_type": "execute_result"
    }
   ],
   "source": [
    "# 모든 값이 동일한 열이 있는지 확인하기\n",
    "# 그 전에 한 열의 모든 값 출력해보기\n",
    "\n",
    "df.V0000 #returning index"
   ]
  },
  {
   "cell_type": "code",
   "execution_count": 46,
   "metadata": {},
   "outputs": [
    {
     "name": "stdout",
     "output_type": "stream",
     "text": [
      "30.45635145620039\n"
     ]
    }
   ],
   "source": [
    "# 이 열의 첫째 데이터 출력\n",
    "print(df.loc[0,'V0000'])\n",
    "# 첫째 데이터랑 모든 데이터가 같은가?\n",
    "torf = (df.V0000 == df.loc[0,'V0000'])\n",
    "torf\n",
    "# false 포함시 냅두고 없으면 열 삭제\n",
    "if 'false' in torf:\n",
    "    print()\n",
    "else:\n",
    "    del df['V0000']\n",
    "    "
   ]
  },
  {
   "cell_type": "code",
   "execution_count": null,
   "metadata": {},
   "outputs": [],
   "source": []
  }
 ],
 "metadata": {
  "kernelspec": {
   "display_name": "Python 3",
   "language": "python",
   "name": "python3"
  },
  "language_info": {
   "codemirror_mode": {
    "name": "ipython",
    "version": 3
   },
   "file_extension": ".py",
   "mimetype": "text/x-python",
   "name": "python",
   "nbconvert_exporter": "python",
   "pygments_lexer": "ipython3",
   "version": "3.6.10"
  }
 },
 "nbformat": 4,
 "nbformat_minor": 2
}
