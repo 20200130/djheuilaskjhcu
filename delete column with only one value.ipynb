{
 "cells": [
  {
   "cell_type": "code",
   "execution_count": 99,
   "metadata": {},
   "outputs": [],
   "source": [
    "# 먼저 모듈 불러오기\n",
    "import numpy as np\n",
    "import pandas as pd\n",
    "\n",
    "# 아무 train data나 불러오기\n",
    "df = pd.read_csv('C:/jupyter_project/train/111.csv')\n",
    "\n",
    "\n",
    "\n"
   ]
  },
  {
   "cell_type": "code",
   "execution_count": 100,
   "metadata": {},
   "outputs": [
    {
     "data": {
      "text/plain": [
       "0    30.456351\n",
       "1    30.473338\n",
       "2    30.476081\n",
       "3    30.491677\n",
       "4    30.459297\n",
       "Name: V0000, dtype: float64"
      ]
     },
     "execution_count": 100,
     "metadata": {},
     "output_type": "execute_result"
    }
   ],
   "source": [
    "# 모든 값이 동일한 열이 있는지 확인하기\n",
    "# 그 전에 한 열의 모든 값 출력해보기\n",
    "\n",
    "df.V0000.head() #returning index"
   ]
  },
  {
   "cell_type": "code",
   "execution_count": 101,
   "metadata": {},
   "outputs": [
    {
     "name": "stdout",
     "output_type": "stream",
     "text": [
      "30.45635145620039\n"
     ]
    },
    {
     "data": {
      "text/plain": [
       "5121"
      ]
     },
     "execution_count": 101,
     "metadata": {},
     "output_type": "execute_result"
    }
   ],
   "source": [
    "\n",
    "# 이 열의 첫째 데이터 출력\n",
    "print(df.loc[0,'V0000'])\n",
    "# 첫째 데이터랑 모든 데이터가 같은가?\n",
    "torf = (df.V0000 == df.loc[0,'V0000'])\n",
    "torf\n",
    "# false 미포함시 열 삭제\n",
    "if 'false' not in torf:\n",
    "    del df['V0000']\n",
    "\n",
    "# 열 개수 확인\n",
    "df.shape[1]\n",
    "\n"
   ]
  },
  {
   "cell_type": "code",
   "execution_count": 102,
   "metadata": {},
   "outputs": [],
   "source": [
    "# 이제 이걸 모든 열에 적용해보기\n"
   ]
  },
  {
   "cell_type": "code",
   "execution_count": 103,
   "metadata": {},
   "outputs": [],
   "source": [
    "count = 0\n",
    "\n",
    "#while count <=5121:\n",
    "#    print()\n",
    "#    count += 1\n",
    "    \n",
    "\n"
   ]
  },
  {
   "cell_type": "code",
   "execution_count": null,
   "metadata": {},
   "outputs": [],
   "source": []
  }
 ],
 "metadata": {
  "kernelspec": {
   "display_name": "Python 3",
   "language": "python",
   "name": "python3"
  },
  "language_info": {
   "codemirror_mode": {
    "name": "ipython",
    "version": 3
   },
   "file_extension": ".py",
   "mimetype": "text/x-python",
   "name": "python",
   "nbconvert_exporter": "python",
   "pygments_lexer": "ipython3",
   "version": "3.6.10"
  }
 },
 "nbformat": 4,
 "nbformat_minor": 2
}
