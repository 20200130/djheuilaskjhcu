{
 "cells": [
  {
   "cell_type": "markdown",
   "metadata": {},
   "source": [
    "# 전처리"
   ]
  },
  {
   "cell_type": "code",
   "execution_count": 8,
   "metadata": {
    "collapsed": true
   },
   "outputs": [
    {
     "name": "stdout",
     "output_type": "stream",
     "text": [
      "['train\\\\0.csv', 'train\\\\1.csv', 'train\\\\10.csv', 'train\\\\100.csv', 'train\\\\101.csv', 'train\\\\102.csv', 'train\\\\103.csv', 'train\\\\104.csv', 'train\\\\105.csv', 'train\\\\106.csv', 'train\\\\107.csv', 'train\\\\108.csv', 'train\\\\109.csv', 'train\\\\11.csv', 'train\\\\110.csv', 'train\\\\111.csv', 'train\\\\112.csv', 'train\\\\113.csv', 'train\\\\114.csv', 'train\\\\115.csv', 'train\\\\116.csv', 'train\\\\117.csv', 'train\\\\118.csv', 'train\\\\119.csv', 'train\\\\12.csv', 'train\\\\120.csv', 'train\\\\121.csv', 'train\\\\122.csv', 'train\\\\123.csv', 'train\\\\124.csv', 'train\\\\125.csv', 'train\\\\126.csv', 'train\\\\127.csv', 'train\\\\128.csv', 'train\\\\129.csv', 'train\\\\13.csv', 'train\\\\130.csv', 'train\\\\131.csv', 'train\\\\132.csv', 'train\\\\133.csv', 'train\\\\134.csv', 'train\\\\135.csv', 'train\\\\136.csv', 'train\\\\137.csv', 'train\\\\138.csv', 'train\\\\139.csv', 'train\\\\14.csv', 'train\\\\140.csv', 'train\\\\141.csv', 'train\\\\142.csv', 'train\\\\143.csv', 'train\\\\144.csv', 'train\\\\145.csv', 'train\\\\146.csv', 'train\\\\147.csv', 'train\\\\148.csv', 'train\\\\149.csv', 'train\\\\15.csv', 'train\\\\150.csv', 'train\\\\151.csv', 'train\\\\152.csv', 'train\\\\153.csv', 'train\\\\154.csv', 'train\\\\155.csv', 'train\\\\156.csv', 'train\\\\157.csv', 'train\\\\158.csv', 'train\\\\159.csv', 'train\\\\16.csv', 'train\\\\160.csv', 'train\\\\161.csv', 'train\\\\162.csv', 'train\\\\163.csv', 'train\\\\164.csv', 'train\\\\165.csv', 'train\\\\166.csv', 'train\\\\167.csv', 'train\\\\168.csv', 'train\\\\169.csv', 'train\\\\17.csv', 'train\\\\170.csv', 'train\\\\171.csv', 'train\\\\172.csv', 'train\\\\173.csv', 'train\\\\174.csv', 'train\\\\175.csv', 'train\\\\176.csv', 'train\\\\177.csv', 'train\\\\178.csv', 'train\\\\179.csv', 'train\\\\18.csv', 'train\\\\180.csv', 'train\\\\181.csv', 'train\\\\182.csv', 'train\\\\183.csv', 'train\\\\184.csv', 'train\\\\185.csv', 'train\\\\186.csv', 'train\\\\187.csv', 'train\\\\188.csv', 'train\\\\189.csv', 'train\\\\19.csv', 'train\\\\190.csv', 'train\\\\191.csv', 'train\\\\192.csv', 'train\\\\193.csv', 'train\\\\194.csv', 'train\\\\195.csv', 'train\\\\196.csv', 'train\\\\197.csv', 'train\\\\198.csv', 'train\\\\199.csv', 'train\\\\2.csv', 'train\\\\20.csv', 'train\\\\200.csv', 'train\\\\201.csv', 'train\\\\202.csv', 'train\\\\203.csv', 'train\\\\204.csv', 'train\\\\205.csv', 'train\\\\206.csv', 'train\\\\207.csv', 'train\\\\208.csv', 'train\\\\209.csv', 'train\\\\21.csv', 'train\\\\210.csv', 'train\\\\211.csv', 'train\\\\212.csv', 'train\\\\213.csv', 'train\\\\214.csv', 'train\\\\215.csv', 'train\\\\216.csv', 'train\\\\217.csv', 'train\\\\218.csv', 'train\\\\219.csv', 'train\\\\22.csv', 'train\\\\220.csv', 'train\\\\221.csv', 'train\\\\222.csv', 'train\\\\223.csv', 'train\\\\224.csv', 'train\\\\225.csv', 'train\\\\226.csv', 'train\\\\227.csv', 'train\\\\228.csv', 'train\\\\229.csv', 'train\\\\23.csv', 'train\\\\230.csv', 'train\\\\231.csv', 'train\\\\232.csv', 'train\\\\233.csv', 'train\\\\234.csv', 'train\\\\235.csv', 'train\\\\236.csv', 'train\\\\237.csv', 'train\\\\238.csv', 'train\\\\239.csv', 'train\\\\24.csv', 'train\\\\240.csv', 'train\\\\241.csv', 'train\\\\242.csv', 'train\\\\243.csv', 'train\\\\244.csv', 'train\\\\245.csv', 'train\\\\246.csv', 'train\\\\247.csv', 'train\\\\248.csv', 'train\\\\249.csv', 'train\\\\25.csv', 'train\\\\250.csv', 'train\\\\251.csv', 'train\\\\252.csv', 'train\\\\253.csv', 'train\\\\254.csv', 'train\\\\255.csv', 'train\\\\256.csv', 'train\\\\257.csv', 'train\\\\258.csv', 'train\\\\259.csv', 'train\\\\26.csv', 'train\\\\260.csv', 'train\\\\261.csv', 'train\\\\262.csv', 'train\\\\263.csv', 'train\\\\264.csv', 'train\\\\265.csv', 'train\\\\266.csv', 'train\\\\267.csv', 'train\\\\268.csv', 'train\\\\269.csv', 'train\\\\27.csv', 'train\\\\270.csv', 'train\\\\271.csv', 'train\\\\272.csv', 'train\\\\273.csv', 'train\\\\274.csv', 'train\\\\275.csv', 'train\\\\276.csv', 'train\\\\277.csv', 'train\\\\278.csv', 'train\\\\279.csv', 'train\\\\28.csv', 'train\\\\280.csv', 'train\\\\281.csv', 'train\\\\282.csv', 'train\\\\283.csv', 'train\\\\284.csv', 'train\\\\285.csv', 'train\\\\286.csv', 'train\\\\287.csv', 'train\\\\288.csv', 'train\\\\289.csv', 'train\\\\29.csv', 'train\\\\290.csv', 'train\\\\291.csv', 'train\\\\292.csv', 'train\\\\293.csv', 'train\\\\294.csv', 'train\\\\295.csv', 'train\\\\296.csv', 'train\\\\297.csv', 'train\\\\298.csv', 'train\\\\299.csv', 'train\\\\3.csv', 'train\\\\30.csv', 'train\\\\300.csv', 'train\\\\301.csv', 'train\\\\302.csv', 'train\\\\303.csv', 'train\\\\304.csv', 'train\\\\305.csv', 'train\\\\306.csv', 'train\\\\307.csv', 'train\\\\308.csv', 'train\\\\309.csv', 'train\\\\31.csv', 'train\\\\310.csv', 'train\\\\311.csv', 'train\\\\312.csv', 'train\\\\313.csv', 'train\\\\314.csv', 'train\\\\315.csv', 'train\\\\316.csv', 'train\\\\317.csv', 'train\\\\318.csv', 'train\\\\319.csv', 'train\\\\32.csv', 'train\\\\320.csv', 'train\\\\321.csv', 'train\\\\322.csv', 'train\\\\323.csv', 'train\\\\324.csv', 'train\\\\325.csv', 'train\\\\326.csv', 'train\\\\327.csv', 'train\\\\328.csv', 'train\\\\329.csv', 'train\\\\33.csv', 'train\\\\330.csv', 'train\\\\331.csv', 'train\\\\332.csv', 'train\\\\333.csv', 'train\\\\334.csv', 'train\\\\335.csv', 'train\\\\336.csv', 'train\\\\337.csv', 'train\\\\338.csv', 'train\\\\339.csv', 'train\\\\34.csv', 'train\\\\340.csv', 'train\\\\341.csv', 'train\\\\342.csv', 'train\\\\343.csv', 'train\\\\344.csv', 'train\\\\345.csv', 'train\\\\346.csv', 'train\\\\347.csv', 'train\\\\348.csv', 'train\\\\349.csv', 'train\\\\35.csv', 'train\\\\350.csv', 'train\\\\351.csv', 'train\\\\352.csv', 'train\\\\353.csv', 'train\\\\354.csv', 'train\\\\355.csv', 'train\\\\356.csv', 'train\\\\357.csv', 'train\\\\358.csv', 'train\\\\359.csv', 'train\\\\36.csv', 'train\\\\360.csv', 'train\\\\361.csv', 'train\\\\362.csv', 'train\\\\363.csv', 'train\\\\364.csv', 'train\\\\365.csv', 'train\\\\366.csv', 'train\\\\367.csv', 'train\\\\368.csv', 'train\\\\369.csv', 'train\\\\37.csv', 'train\\\\370.csv', 'train\\\\371.csv', 'train\\\\372.csv', 'train\\\\373.csv', 'train\\\\374.csv', 'train\\\\375.csv', 'train\\\\376.csv', 'train\\\\377.csv', 'train\\\\378.csv', 'train\\\\379.csv', 'train\\\\38.csv', 'train\\\\380.csv', 'train\\\\381.csv', 'train\\\\382.csv', 'train\\\\383.csv', 'train\\\\384.csv', 'train\\\\385.csv', 'train\\\\386.csv', 'train\\\\387.csv', 'train\\\\388.csv', 'train\\\\389.csv', 'train\\\\39.csv', 'train\\\\390.csv', 'train\\\\391.csv', 'train\\\\392.csv', 'train\\\\393.csv', 'train\\\\394.csv', 'train\\\\395.csv', 'train\\\\396.csv', 'train\\\\397.csv', 'train\\\\398.csv', 'train\\\\399.csv', 'train\\\\4.csv', 'train\\\\40.csv', 'train\\\\400.csv', 'train\\\\401.csv', 'train\\\\402.csv', 'train\\\\403.csv', 'train\\\\404.csv', 'train\\\\405.csv', 'train\\\\406.csv', 'train\\\\407.csv', 'train\\\\408.csv', 'train\\\\409.csv', 'train\\\\41.csv', 'train\\\\410.csv', 'train\\\\411.csv', 'train\\\\412.csv', 'train\\\\413.csv', 'train\\\\414.csv', 'train\\\\415.csv', 'train\\\\416.csv', 'train\\\\417.csv', 'train\\\\418.csv', 'train\\\\419.csv', 'train\\\\42.csv', 'train\\\\420.csv', 'train\\\\421.csv', 'train\\\\422.csv', 'train\\\\423.csv', 'train\\\\424.csv', 'train\\\\425.csv', 'train\\\\426.csv', 'train\\\\427.csv', 'train\\\\428.csv', 'train\\\\429.csv', 'train\\\\43.csv', 'train\\\\430.csv', 'train\\\\431.csv', 'train\\\\432.csv', 'train\\\\433.csv', 'train\\\\434.csv', 'train\\\\435.csv', 'train\\\\436.csv', 'train\\\\437.csv', 'train\\\\438.csv', 'train\\\\439.csv', 'train\\\\44.csv', 'train\\\\440.csv', 'train\\\\441.csv', 'train\\\\442.csv', 'train\\\\443.csv', 'train\\\\444.csv', 'train\\\\445.csv', 'train\\\\446.csv', 'train\\\\447.csv', 'train\\\\448.csv', 'train\\\\449.csv', 'train\\\\45.csv', 'train\\\\450.csv', 'train\\\\451.csv', 'train\\\\452.csv', 'train\\\\453.csv', 'train\\\\454.csv', 'train\\\\455.csv', 'train\\\\456.csv', 'train\\\\457.csv', 'train\\\\458.csv', 'train\\\\459.csv', 'train\\\\46.csv', 'train\\\\460.csv', 'train\\\\461.csv', 'train\\\\462.csv', 'train\\\\463.csv', 'train\\\\464.csv', 'train\\\\465.csv', 'train\\\\466.csv', 'train\\\\467.csv', 'train\\\\468.csv', 'train\\\\469.csv', 'train\\\\47.csv', 'train\\\\470.csv', 'train\\\\471.csv', 'train\\\\472.csv', 'train\\\\473.csv', 'train\\\\474.csv', 'train\\\\475.csv', 'train\\\\476.csv', 'train\\\\477.csv', 'train\\\\478.csv', 'train\\\\479.csv', 'train\\\\48.csv', 'train\\\\480.csv', 'train\\\\481.csv', 'train\\\\482.csv', 'train\\\\483.csv', 'train\\\\484.csv', 'train\\\\485.csv', 'train\\\\486.csv', 'train\\\\487.csv', 'train\\\\488.csv', 'train\\\\489.csv', 'train\\\\49.csv', 'train\\\\490.csv', 'train\\\\491.csv', 'train\\\\492.csv', 'train\\\\493.csv', 'train\\\\494.csv', 'train\\\\495.csv', 'train\\\\496.csv', 'train\\\\497.csv', 'train\\\\498.csv', 'train\\\\499.csv', 'train\\\\5.csv', 'train\\\\50.csv', 'train\\\\500.csv', 'train\\\\501.csv', 'train\\\\502.csv', 'train\\\\503.csv', 'train\\\\504.csv', 'train\\\\505.csv', 'train\\\\506.csv', 'train\\\\507.csv', 'train\\\\508.csv', 'train\\\\509.csv', 'train\\\\51.csv', 'train\\\\510.csv', 'train\\\\511.csv', 'train\\\\512.csv', 'train\\\\513.csv', 'train\\\\514.csv', 'train\\\\515.csv', 'train\\\\516.csv', 'train\\\\517.csv', 'train\\\\518.csv', 'train\\\\519.csv', 'train\\\\52.csv', 'train\\\\520.csv', 'train\\\\521.csv', 'train\\\\522.csv', 'train\\\\523.csv', 'train\\\\524.csv', 'train\\\\525.csv', 'train\\\\526.csv', 'train\\\\527.csv', 'train\\\\528.csv', 'train\\\\529.csv', 'train\\\\53.csv', 'train\\\\530.csv', 'train\\\\531.csv', 'train\\\\532.csv', 'train\\\\533.csv', 'train\\\\534.csv', 'train\\\\535.csv', 'train\\\\536.csv', 'train\\\\537.csv', 'train\\\\538.csv', 'train\\\\539.csv', 'train\\\\54.csv', 'train\\\\540.csv', 'train\\\\541.csv', 'train\\\\542.csv', 'train\\\\543.csv', 'train\\\\544.csv', 'train\\\\545.csv', 'train\\\\546.csv', 'train\\\\547.csv', 'train\\\\548.csv', 'train\\\\549.csv', 'train\\\\55.csv', 'train\\\\550.csv', 'train\\\\551.csv', 'train\\\\552.csv', 'train\\\\553.csv', 'train\\\\554.csv', 'train\\\\555.csv', 'train\\\\556.csv', 'train\\\\557.csv', 'train\\\\558.csv', 'train\\\\559.csv', 'train\\\\56.csv', 'train\\\\560.csv', 'train\\\\561.csv', 'train\\\\562.csv', 'train\\\\563.csv', 'train\\\\564.csv', 'train\\\\565.csv', 'train\\\\566.csv', 'train\\\\567.csv', 'train\\\\568.csv', 'train\\\\569.csv', 'train\\\\57.csv', 'train\\\\570.csv', 'train\\\\571.csv', 'train\\\\572.csv', 'train\\\\573.csv', 'train\\\\574.csv', 'train\\\\575.csv', 'train\\\\576.csv', 'train\\\\577.csv', 'train\\\\578.csv', 'train\\\\579.csv', 'train\\\\58.csv', 'train\\\\580.csv', 'train\\\\581.csv', 'train\\\\582.csv', 'train\\\\583.csv', 'train\\\\584.csv', 'train\\\\585.csv', 'train\\\\586.csv', 'train\\\\587.csv', 'train\\\\588.csv', 'train\\\\589.csv', 'train\\\\59.csv', 'train\\\\590.csv', 'train\\\\591.csv', 'train\\\\592.csv', 'train\\\\593.csv', 'train\\\\594.csv', 'train\\\\595.csv', 'train\\\\596.csv', 'train\\\\597.csv', 'train\\\\598.csv', 'train\\\\599.csv', 'train\\\\6.csv', 'train\\\\60.csv', 'train\\\\600.csv', 'train\\\\601.csv', 'train\\\\602.csv', 'train\\\\603.csv', 'train\\\\604.csv', 'train\\\\605.csv', 'train\\\\606.csv', 'train\\\\607.csv', 'train\\\\608.csv', 'train\\\\609.csv', 'train\\\\61.csv', 'train\\\\610.csv', 'train\\\\611.csv', 'train\\\\612.csv', 'train\\\\613.csv', 'train\\\\614.csv', 'train\\\\615.csv', 'train\\\\616.csv', 'train\\\\617.csv', 'train\\\\618.csv', 'train\\\\619.csv', 'train\\\\62.csv', 'train\\\\620.csv', 'train\\\\621.csv', 'train\\\\622.csv', 'train\\\\623.csv', 'train\\\\624.csv', 'train\\\\625.csv', 'train\\\\626.csv', 'train\\\\627.csv', 'train\\\\628.csv', 'train\\\\629.csv', 'train\\\\63.csv', 'train\\\\630.csv', 'train\\\\631.csv', 'train\\\\632.csv', 'train\\\\633.csv', 'train\\\\634.csv', 'train\\\\635.csv', 'train\\\\636.csv', 'train\\\\637.csv', 'train\\\\638.csv', 'train\\\\639.csv', 'train\\\\64.csv', 'train\\\\640.csv', 'train\\\\641.csv', 'train\\\\642.csv', 'train\\\\643.csv', 'train\\\\644.csv', 'train\\\\645.csv', 'train\\\\646.csv', 'train\\\\647.csv', 'train\\\\648.csv', 'train\\\\649.csv', 'train\\\\65.csv', 'train\\\\650.csv', 'train\\\\651.csv', 'train\\\\652.csv', 'train\\\\653.csv', 'train\\\\654.csv', 'train\\\\655.csv', 'train\\\\656.csv', 'train\\\\657.csv', 'train\\\\658.csv', 'train\\\\659.csv', 'train\\\\66.csv', 'train\\\\660.csv', 'train\\\\661.csv', 'train\\\\662.csv', 'train\\\\663.csv', 'train\\\\664.csv', 'train\\\\665.csv', 'train\\\\666.csv', 'train\\\\667.csv', 'train\\\\668.csv', 'train\\\\669.csv', 'train\\\\67.csv', 'train\\\\670.csv', 'train\\\\671.csv', 'train\\\\672.csv', 'train\\\\673.csv', 'train\\\\674.csv', 'train\\\\675.csv', 'train\\\\676.csv', 'train\\\\677.csv', 'train\\\\678.csv', 'train\\\\679.csv', 'train\\\\68.csv', 'train\\\\680.csv', 'train\\\\681.csv', 'train\\\\682.csv', 'train\\\\683.csv', 'train\\\\684.csv', 'train\\\\685.csv', 'train\\\\686.csv', 'train\\\\687.csv', 'train\\\\688.csv', 'train\\\\689.csv', 'train\\\\69.csv', 'train\\\\690.csv', 'train\\\\691.csv', 'train\\\\692.csv', 'train\\\\693.csv', 'train\\\\694.csv', 'train\\\\695.csv', 'train\\\\696.csv', 'train\\\\697.csv', 'train\\\\698.csv', 'train\\\\699.csv', 'train\\\\7.csv', 'train\\\\70.csv', 'train\\\\700.csv', 'train\\\\701.csv', 'train\\\\702.csv', 'train\\\\703.csv', 'train\\\\704.csv', 'train\\\\705.csv', 'train\\\\706.csv', 'train\\\\707.csv', 'train\\\\708.csv', 'train\\\\709.csv', 'train\\\\71.csv', 'train\\\\710.csv', 'train\\\\711.csv', 'train\\\\712.csv', 'train\\\\713.csv', 'train\\\\714.csv', 'train\\\\715.csv', 'train\\\\716.csv', 'train\\\\717.csv', 'train\\\\718.csv', 'train\\\\719.csv', 'train\\\\72.csv', 'train\\\\720.csv', 'train\\\\721.csv', 'train\\\\722.csv', 'train\\\\723.csv', 'train\\\\724.csv', 'train\\\\725.csv', 'train\\\\726.csv', 'train\\\\727.csv', 'train\\\\728.csv', 'train\\\\729.csv', 'train\\\\73.csv', 'train\\\\730.csv', 'train\\\\731.csv', 'train\\\\732.csv', 'train\\\\733.csv', 'train\\\\734.csv', 'train\\\\735.csv', 'train\\\\736.csv', 'train\\\\737.csv', 'train\\\\738.csv', 'train\\\\739.csv', 'train\\\\74.csv', 'train\\\\740.csv', 'train\\\\741.csv', 'train\\\\742.csv', 'train\\\\743.csv', 'train\\\\744.csv', 'train\\\\745.csv', 'train\\\\746.csv', 'train\\\\747.csv', 'train\\\\748.csv', 'train\\\\749.csv', 'train\\\\75.csv', 'train\\\\750.csv', 'train\\\\751.csv', 'train\\\\752.csv', 'train\\\\753.csv', 'train\\\\754.csv', 'train\\\\755.csv', 'train\\\\756.csv', 'train\\\\757.csv', 'train\\\\758.csv', 'train\\\\759.csv', 'train\\\\76.csv', 'train\\\\760.csv', 'train\\\\761.csv', 'train\\\\762.csv', 'train\\\\763.csv', 'train\\\\764.csv', 'train\\\\765.csv', 'train\\\\766.csv', 'train\\\\767.csv', 'train\\\\768.csv', 'train\\\\769.csv', 'train\\\\77.csv', 'train\\\\770.csv', 'train\\\\771.csv', 'train\\\\772.csv', 'train\\\\773.csv', 'train\\\\774.csv', 'train\\\\775.csv', 'train\\\\776.csv', 'train\\\\777.csv', 'train\\\\778.csv', 'train\\\\779.csv', 'train\\\\78.csv', 'train\\\\780.csv', 'train\\\\781.csv', 'train\\\\782.csv', 'train\\\\783.csv', 'train\\\\784.csv', 'train\\\\785.csv', 'train\\\\786.csv', 'train\\\\787.csv', 'train\\\\788.csv', 'train\\\\789.csv', 'train\\\\79.csv', 'train\\\\790.csv', 'train\\\\791.csv', 'train\\\\792.csv', 'train\\\\793.csv', 'train\\\\794.csv', 'train\\\\795.csv', 'train\\\\796.csv', 'train\\\\797.csv', 'train\\\\798.csv', 'train\\\\799.csv', 'train\\\\8.csv', 'train\\\\80.csv', 'train\\\\800.csv', 'train\\\\801.csv', 'train\\\\802.csv', 'train\\\\803.csv', 'train\\\\804.csv', 'train\\\\805.csv', 'train\\\\806.csv', 'train\\\\807.csv', 'train\\\\808.csv', 'train\\\\809.csv', 'train\\\\81.csv', 'train\\\\810.csv', 'train\\\\811.csv', 'train\\\\812.csv', 'train\\\\813.csv', 'train\\\\814.csv', 'train\\\\815.csv', 'train\\\\816.csv', 'train\\\\817.csv', 'train\\\\818.csv', 'train\\\\819.csv', 'train\\\\82.csv', 'train\\\\820.csv', 'train\\\\821.csv', 'train\\\\822.csv', 'train\\\\823.csv', 'train\\\\824.csv', 'train\\\\825.csv', 'train\\\\826.csv', 'train\\\\827.csv', 'train\\\\83.csv', 'train\\\\84.csv', 'train\\\\85.csv', 'train\\\\86.csv', 'train\\\\87.csv', 'train\\\\88.csv', 'train\\\\89.csv', 'train\\\\9.csv', 'train\\\\90.csv', 'train\\\\91.csv', 'train\\\\92.csv', 'train\\\\93.csv', 'train\\\\94.csv', 'train\\\\95.csv', 'train\\\\96.csv', 'train\\\\97.csv', 'train\\\\98.csv', 'train\\\\99.csv']\n"
     ]
    }
   ],
   "source": [
    "\n",
    "# 1. 데이터 불러오기\n",
    "\n",
    "# 모듈 불러오기\n",
    "import os\n",
    "import glob\n",
    "import pandas as pd\n",
    "from tqdm import tqdm\n",
    "\n",
    "# train 데이터 불러오기\n",
    "path = r'train' #경로\n",
    "train_input = glob.glob(os.path.join(path, '*.csv'))\n",
    "output_file = r'result.csv' #아직안쓰이지만 하나로 합쳐진 파일\n",
    "\n",
    "\n",
    "\n",
    "# 빈 공간(리스트)를 만들어준다\n",
    "\n",
    "print(train_input)\n",
    "\n",
    "\n",
    "\n",
    "\n",
    "\n"
   ]
  },
  {
   "cell_type": "code",
   "execution_count": 11,
   "metadata": {},
   "outputs": [],
   "source": [
    "\n",
    "# csv를 dataframe으로 불러오기\n",
    "dataframes = []\n",
    "for i in tqdm(train_input):\n",
    "    dataframes.append(pd.read_csv(i))\n",
    "\n",
    "\n"
   ]
  },
  {
   "cell_type": "code",
   "execution_count": 23,
   "metadata": {},
   "outputs": [
    {
     "name": "stderr",
     "output_type": "stream",
     "text": [
      "IOPub data rate exceeded.\n",
      "The notebook server will temporarily stop sending output\n",
      "to the client in order to avoid crashing it.\n",
      "To change this limit, set the config variable\n",
      "`--NotebookApp.iopub_data_rate_limit`.\n",
      "\n",
      "Current values:\n",
      "NotebookApp.iopub_data_rate_limit=1000000.0 (bytes/sec)\n",
      "NotebookApp.rate_limit_window=3.0 (secs)\n",
      "\n"
     ]
    }
   ],
   "source": [
    "print(dataframes)"
   ]
  },
  {
   "cell_type": "code",
   "execution_count": null,
   "metadata": {},
   "outputs": [],
   "source": [
    "\n",
    "\n",
    "# 2. 15~60초만 남기기\n",
    "dataframes.drop([:15]) #앞\n",
    "dataframes.drop([61:]) # 뒤\n",
    "\n"
   ]
  },
  {
   "cell_type": "code",
   "execution_count": null,
   "metadata": {},
   "outputs": [],
   "source": [
    "\n",
    "# 2-2. 합치기\n",
    "\n",
    "   \n",
    "    \n",
    "dataCombine = pd.concat(dataframes, axis=0)\n",
    "# concat함수를 이용해서 리스트의 내용을 병합\n",
    "# axis=0은 수직으로 병합함. axis=1은 수평.\n",
    "#ignore_index=True는 인데스 값이 기존 순서를 무시하고 순서대로 정렬되도록 한다.\n",
    "\n",
    "\n",
    "dataCombine.to_csv(output_file, index=False) # to_csv함수로 저장한다. 인데스를 빼려면 False로 설정\n",
    "\n",
    "\n",
    "\n",
    "# 3. labeling 및 time 열 지우기\n",
    "\n",
    "\n",
    "\n",
    "\n",
    "\n",
    "# 4. 문자열과 결측치 0으로 변환\n",
    "\n",
    "\n",
    "\n",
    "\n",
    "# 5. 열 삭제\n",
    "\n",
    "\n",
    "\n"
   ]
  }
 ],
 "metadata": {
  "kernelspec": {
   "display_name": "Python 3",
   "language": "python",
   "name": "python3"
  },
  "language_info": {
   "codemirror_mode": {
    "name": "ipython",
    "version": 3
   },
   "file_extension": ".py",
   "mimetype": "text/x-python",
   "name": "python",
   "nbconvert_exporter": "python",
   "pygments_lexer": "ipython3",
   "version": "3.6.10"
  }
 },
 "nbformat": 4,
 "nbformat_minor": 2
}
